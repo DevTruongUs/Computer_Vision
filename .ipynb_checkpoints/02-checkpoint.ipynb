{
 "cells": [
  {
   "cell_type": "code",
   "execution_count": 1,
   "id": "5e894f7e-0826-4166-b1ae-c55d6265211b",
   "metadata": {},
   "outputs": [],
   "source": [
    "# shift + Enter: run code + add row"
   ]
  },
  {
   "cell_type": "code",
   "execution_count": 2,
   "id": "4d658070-69cf-414f-a279-3e1b6be4e256",
   "metadata": {
    "tags": []
   },
   "outputs": [],
   "source": [
    "# Import Lop Image\n",
    "from PIL import Image"
   ]
  },
  {
   "cell_type": "code",
   "execution_count": 3,
   "id": "a662971e-d2ff-4136-a408-67c7c83a0983",
   "metadata": {
    "tags": []
   },
   "outputs": [],
   "source": [
    "# Thu muc chua hinh anh\n",
    "dir = 'C:/Users/Admin/OneDrive - VNU-HCMUS/Documents/src.cv/img/01'"
   ]
  },
  {
   "cell_type": "code",
   "execution_count": 4,
   "id": "ae05037e-57a3-45b4-9edb-c216f387c707",
   "metadata": {
    "tags": []
   },
   "outputs": [
    {
     "name": "stdout",
     "output_type": "stream",
     "text": [
      "C:/Users/Admin/OneDrive - VNU-HCMUS/Documents/src.cv/img/01/1.jpg\n"
     ]
    }
   ],
   "source": [
    "# Duong dan den hinh anh\n",
    "image_path = dir + '/1.jpg'\n",
    "print(image_path)"
   ]
  },
  {
   "cell_type": "code",
   "execution_count": 5,
   "id": "d13b4bd7-ec45-498e-8e92-4713d620dc05",
   "metadata": {
    "tags": []
   },
   "outputs": [],
   "source": [
    "# Su dung Image.open() doc anh\n",
    "img01 = Image.open(image_path)"
   ]
  },
  {
   "cell_type": "code",
   "execution_count": 6,
   "id": "72717bd0-216e-4cae-81b3-8678a774f04d",
   "metadata": {
    "tags": []
   },
   "outputs": [],
   "source": [
    "# Hien thi hinh anh\n",
    "img01.show()"
   ]
  },
  {
   "cell_type": "code",
   "execution_count": 7,
   "id": "0dc7df3d-9968-497e-9c83-ad7057ed1d04",
   "metadata": {
    "tags": []
   },
   "outputs": [
    {
     "name": "stdout",
     "output_type": "stream",
     "text": [
      "Dinh dang anh: JPEG\n"
     ]
    }
   ],
   "source": [
    "# In mot so thong tin\n",
    "# In dinh dang anh\n",
    "print(\"Dinh dang anh: \" + img01.format)"
   ]
  },
  {
   "cell_type": "code",
   "execution_count": 8,
   "id": "93b5e794-35bc-46cf-91cc-5e9b66d018f0",
   "metadata": {
    "tags": []
   },
   "outputs": [
    {
     "name": "stdout",
     "output_type": "stream",
     "text": [
      "Kich thuoc hinh anh:  (500, 332)\n"
     ]
    }
   ],
   "source": [
    "# In ra size\n",
    "print(\"Kich thuoc hinh anh: \", img01.size)"
   ]
  },
  {
   "cell_type": "code",
   "execution_count": 10,
   "id": "fb98469d-c45d-444c-82d8-f9718796f223",
   "metadata": {
    "tags": []
   },
   "outputs": [],
   "source": [
    "# Luu anh\n",
    "new_img_01_path = dir + '/new_01.JPG'\n",
    "new_img_png_01_path = dir + '/new_01.PNG'\n",
    "img01.save(new_img_01_path)\n",
    "img01.save(new_img_png_01_path)"
   ]
  },
  {
   "cell_type": "code",
   "execution_count": 9,
   "id": "caa73da0-87ca-4d76-8197-b777f01c9862",
   "metadata": {
    "tags": []
   },
   "outputs": [],
   "source": [
    "# Dong tap tin\n",
    "# img01.close()"
   ]
  }
 ],
 "metadata": {
  "kernelspec": {
   "display_name": "Python 3 (ipykernel)",
   "language": "python",
   "name": "python3"
  },
  "language_info": {
   "codemirror_mode": {
    "name": "ipython",
    "version": 3
   },
   "file_extension": ".py",
   "mimetype": "text/x-python",
   "name": "python",
   "nbconvert_exporter": "python",
   "pygments_lexer": "ipython3",
   "version": "3.11.5"
  }
 },
 "nbformat": 4,
 "nbformat_minor": 5
}
