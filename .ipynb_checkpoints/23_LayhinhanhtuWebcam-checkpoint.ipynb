{
 "cells": [
  {
   "cell_type": "code",
   "execution_count": 1,
   "id": "db48bf53-c3c1-4371-8dfd-baaad5cd2fb1",
   "metadata": {
    "tags": []
   },
   "outputs": [],
   "source": [
    "import cv2\n",
    "import time"
   ]
  },
  {
   "cell_type": "code",
   "execution_count": 2,
   "id": "85c3c0b7-0fe5-45cc-9962-010fbd6b0e60",
   "metadata": {
    "tags": []
   },
   "outputs": [],
   "source": [
    "# Doc video tu file\n",
    "camera = cv2.VideoCapture(0)"
   ]
  },
  {
   "cell_type": "code",
   "execution_count": 3,
   "id": "ffe7c5a5-8594-47be-90c4-49dce2a5bfd0",
   "metadata": {
    "tags": []
   },
   "outputs": [],
   "source": [
    "# Tao cua so de hien thi\n",
    "cv2.namedWindow('Video Player', cv2.WINDOW_NORMAL)\n",
    "\n",
    "#\n",
    "intervel = 200\n",
    "count = 0"
   ]
  },
  {
   "cell_type": "code",
   "execution_count": 4,
   "id": "9edfc874-13a2-4d11-95e4-0f4694d05920",
   "metadata": {},
   "outputs": [],
   "source": [
    "# Ghi text tren hinh anh\n",
    "font = cv2.FONT_HERSHEY_SIMPLEX\n",
    "font_color = (255, 255, 255)\n",
    "font_scale = 1\n",
    "font_thicknes = 2"
   ]
  },
  {
   "cell_type": "code",
   "execution_count": 5,
   "id": "a5df6b29-1e61-4005-a13a-6c98e7fbcfd7",
   "metadata": {
    "tags": []
   },
   "outputs": [],
   "source": [
    "# Hiển thị từng khung ảnh\n",
    "while True:\n",
    "    # Thời gian trước khi đọc\n",
    "    start_time = time.time()\n",
    "    # Đọc 1 frame\n",
    "    ret, frame = camera.read()\n",
    "    # Thoát khi không thể đọc được frame\n",
    "    if not ret:\n",
    "        break\n",
    "    \n",
    "    # Tang count +1\n",
    "    count = count + 1\n",
    "    \n",
    "    # Dinh ki luu anh xuong\n",
    "    if(count%intervel==0)\n",
    "        cv2.imwrite(f'C:/Users/Admin/OneDrive - VNU-HCMUS/Documents/src.cv/img/01/image_(count).jpg', frame)\n",
    "        \n",
    "    # Thời gian trước khi đọc\n",
    "    end_time = time.time()    \n",
    "    \n",
    "    # Tình FPS:\n",
    "    fps = 1/(end_time-start_time)\n",
    "    \n",
    "    # Ghi số lượng fps\n",
    "    cv2.putText(frame, f'FPS: {fps:.2f}', (100, 100), font, font_scale, font_color , font_thicknes)\n",
    "    \n",
    "    # Hiển thị\n",
    "    cv2.imshow('Video Player', frame)\n",
    "    if(cv2.waitKey(10)==ord('q')):\n",
    "        break\n",
    "\n",
    "# Hủy bỏ player\n",
    "camera.release()\n",
    "cv2.destroyAllWindows()\n"
   ]
  }
 ],
 "metadata": {
  "kernelspec": {
   "display_name": "Python 3 (ipykernel)",
   "language": "python",
   "name": "python3"
  },
  "language_info": {
   "codemirror_mode": {
    "name": "ipython",
    "version": 3
   },
   "file_extension": ".py",
   "mimetype": "text/x-python",
   "name": "python",
   "nbconvert_exporter": "python",
   "pygments_lexer": "ipython3",
   "version": "3.11.5"
  }
 },
 "nbformat": 4,
 "nbformat_minor": 5
}
