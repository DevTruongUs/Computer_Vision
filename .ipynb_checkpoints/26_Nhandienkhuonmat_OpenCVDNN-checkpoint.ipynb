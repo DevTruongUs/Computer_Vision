{
 "cells": [
  {
   "cell_type": "code",
   "execution_count": 1,
   "id": "2a9d1474-f80b-4bed-ae9b-c69d86537b52",
   "metadata": {
    "tags": []
   },
   "outputs": [],
   "source": [
    "import cv2 \n",
    "import numpy as np"
   ]
  },
  {
   "cell_type": "code",
   "execution_count": null,
   "id": "6346b167-caf3-46c5-9b6a-b32e1f7e25c4",
   "metadata": {
    "tags": []
   },
   "outputs": [],
   "source": [
    "#Tải anh đầu vào\n",
    "img = cv2.imread('./img/face.png')\n",
    "\n",
    "#Hiển thị ảnh gốc\n",
    "cv2.imshow('Ảnh gốc', img)\n",
    "cv2.waitKey(0)\n",
    "cv2.destroyAllWindows()"
   ]
  },
  {
   "cell_type": "code",
   "execution_count": null,
   "id": "50188ca3-fbd3-4d8f-9d1b-d76ba5de1d18",
   "metadata": {
    "tags": []
   },
   "outputs": [],
   "source": [
    "# Tải mô hình đã được huấn luyện từ trước\n",
    "net = cv2.dnn.readNetFromCaffe(\n",
    "    './models/deploy.prototxt.txt',\n",
    "    './models/res10_300x300_ssd_iter_140000_fp16.caffemodel'\n",
    ")\n",
    "\n",
    "#Chuẩn bị dữ liệu đầu vào\n",
    "#img: là ảnh mà bạn muốn phát hiện ra khuôn mặt\n",
    "#1.0: Đây là tỷ lệ co giãn cho hình ảnh\n",
    "#(300,300): Đây là kích thước mà mô hình yêu cầu cho đầu vào\n",
    "#(104, 177, 123): màu sắc trung bình\n",
    "#swapRB=False: Đây là một cờ để xác định xem có cần hoán đổi các kênh màu đỏ và xanh \n",
    "blob = cv2.dnn.blobFromImage(img, 1.0, (300, 300), (104, 177, 123), swapRB=False)\n",
    "\n",
    "#Đặt dữ liệu đầu vào cho mạng\n",
    "net.setInput(blob)\n",
    "\n",
    "#Chạy mạng để phát hiện khuôn mặt\n",
    "faces = net.forward()\n",
    "\n",
    "#Lấy kích thước của ảnh đầu vào\n",
    "h = img.shape[0]\n",
    "w = img.shape[1]\n",
    "\n",
    "#In thông tin \n",
    "print(faces.shape)\n",
    "print(faces[0, 0, 0, ])\n",
    "\n",
    "#Duyệt từng khuôn mặt đã được phát hiện\n",
    "for i in range(0, faces.shape[2]):\n",
    "    confidence = faces[0, 0, i, 2]\n",
    "    \n",
    "    #Kiểm tra nếu mặt có độ tin cậy là 0.5\n",
    "    if confidence > 0.9:\n",
    "        #Trích xuất tọa độ\n",
    "        print(faces[0, 0, i, 3:7])\n",
    "        startx = int(faces[0, 0, i, 3] * w)\n",
    "        starty = int(faces[0, 0, i, 4] * h)\n",
    "        endx = int(faces[0, 0, i, 5] * w)\n",
    "        endy = int(faces[0, 0, i, 6] * h)\n",
    "        print(startx, starty, endx, endy)\n",
    "\n",
    "        #Vẽ hình chữ nhật xung quanh khuôn mặt đã phát hiện\n",
    "        cv2.rectangle(img, (startx, starty), (endx, endy), (0, 255, 0),)\n",
    "        \n",
    "        #Hiển thị độ tin cậy\n",
    "        text = 'Face: {:.2f}%'.format(confidence*100);\n",
    "        cv2.putText(img, text, (startx, starty-10), cv2.FONT_HERSHEY_PLAIN, 1, (255,255,255))\n",
    "\n",
    "#Hiển thị ảnh gốc\n",
    "cv2.imshow('Kết Quả', img)\n",
    "cv2.waitKey(0)\n",
    "cv2.destroyAllWindows()"
   ]
  },
  {
   "cell_type": "code",
   "execution_count": null,
   "id": "ddb8410d-0292-489b-9b78-16e3e96abfa9",
   "metadata": {},
   "outputs": [],
   "source": []
  }
 ],
 "metadata": {
  "kernelspec": {
   "display_name": "Python 3 (ipykernel)",
   "language": "python",
   "name": "python3"
  },
  "language_info": {
   "codemirror_mode": {
    "name": "ipython",
    "version": 3
   },
   "file_extension": ".py",
   "mimetype": "text/x-python",
   "name": "python",
   "nbconvert_exporter": "python",
   "pygments_lexer": "ipython3",
   "version": "3.11.5"
  }
 },
 "nbformat": 4,
 "nbformat_minor": 5
}
