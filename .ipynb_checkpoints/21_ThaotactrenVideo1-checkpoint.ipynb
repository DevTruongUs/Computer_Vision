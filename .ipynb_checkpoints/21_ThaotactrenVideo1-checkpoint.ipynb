{
 "cells": [
  {
   "cell_type": "code",
   "execution_count": 1,
   "id": "db48bf53-c3c1-4371-8dfd-baaad5cd2fb1",
   "metadata": {
    "tags": []
   },
   "outputs": [],
   "source": [
    "import cv2"
   ]
  },
  {
   "cell_type": "code",
   "execution_count": 2,
   "id": "85c3c0b7-0fe5-45cc-9962-010fbd6b0e60",
   "metadata": {
    "tags": []
   },
   "outputs": [],
   "source": [
    "# Doc video tu file\n",
    "my_video = cv2.VideoCapture('C:/Users/Admin/OneDrive - VNU-HCMUS/Documents/src.cv/img/01/pexels-ahmed-18338415.mp4')"
   ]
  },
  {
   "cell_type": "code",
   "execution_count": 3,
   "id": "ffe7c5a5-8594-47be-90c4-49dce2a5bfd0",
   "metadata": {
    "jupyter": {
     "source_hidden": true
    },
    "tags": []
   },
   "outputs": [],
   "source": [
    "# Tao cua so de hien thi\n",
    "cv2.namedWindow('Video Player', cv2.WINDOW_NORMAL)"
   ]
  },
  {
   "cell_type": "code",
   "execution_count": 6,
   "id": "a5df6b29-1e61-4005-a13a-6c98e7fbcfd7",
   "metadata": {
    "tags": []
   },
   "outputs": [],
   "source": [
    "# Hien thi tung khung hinh\n",
    "while True:\n",
    "    # Doc 1 frame\n",
    "    ret, frame = my_video.read()\n",
    "    \n",
    "    # Thoat neu khong the doc file\n",
    "    if not ret:\n",
    "        break\n",
    "        \n",
    "    # Hien thi \n",
    "    cv2.imshow('Video Player', frame)\n",
    "    \n",
    "    if(cv2.waitKey(10)==ord('q')):\n",
    "        break\n",
    "    "
   ]
  },
  {
   "cell_type": "code",
   "execution_count": null,
   "id": "df51f449-94d5-45e1-a466-b2e060ee8420",
   "metadata": {},
   "outputs": [],
   "source": [
    "# Huy bo player\n",
    "my_video.release\n",
    "cv2.destroyAllWindows()"
   ]
  }
 ],
 "metadata": {
  "kernelspec": {
   "display_name": "Python 3 (ipykernel)",
   "language": "python",
   "name": "python3"
  },
  "language_info": {
   "codemirror_mode": {
    "name": "ipython",
    "version": 3
   },
   "file_extension": ".py",
   "mimetype": "text/x-python",
   "name": "python",
   "nbconvert_exporter": "python",
   "pygments_lexer": "ipython3",
   "version": "3.11.5"
  }
 },
 "nbformat": 4,
 "nbformat_minor": 5
}
