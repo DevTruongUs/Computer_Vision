{
 "cells": [
  {
   "cell_type": "code",
   "execution_count": 1,
   "id": "536839e0-3ed8-49cb-ae2f-1d4d2d4c8667",
   "metadata": {
    "tags": []
   },
   "outputs": [],
   "source": [
    "import cv2"
   ]
  },
  {
   "cell_type": "code",
   "execution_count": 2,
   "id": "d0857c6d-49ec-47a7-90c0-8693d70e6b66",
   "metadata": {
    "tags": []
   },
   "outputs": [
    {
     "name": "stdout",
     "output_type": "stream",
     "text": [
      "[[[255 254 255]\n",
      "  [132 134 135]\n",
      "  [110 115 116]\n",
      "  ...\n",
      "  [254 254 254]\n",
      "  [254 254 254]\n",
      "  [255 255 255]]\n",
      "\n",
      " [[255 254 255]\n",
      "  [116 118 119]\n",
      "  [ 62  67  66]\n",
      "  ...\n",
      "  [252 252 252]\n",
      "  [253 253 253]\n",
      "  [254 254 254]]\n",
      "\n",
      " [[255 254 255]\n",
      "  [ 73  73  73]\n",
      "  [ 94  95  93]\n",
      "  ...\n",
      "  [249 249 249]\n",
      "  [252 252 252]\n",
      "  [254 254 254]]\n",
      "\n",
      " ...\n",
      "\n",
      " [[255 255 255]\n",
      "  [253 253 253]\n",
      "  [250 250 250]\n",
      "  ...\n",
      "  [247 247 247]\n",
      "  [252 252 252]\n",
      "  [254 254 254]]\n",
      "\n",
      " [[255 255 255]\n",
      "  [255 255 255]\n",
      "  [253 253 253]\n",
      "  ...\n",
      "  [253 253 253]\n",
      "  [255 255 255]\n",
      "  [255 255 255]]\n",
      "\n",
      " [[254 254 254]\n",
      "  [254 254 254]\n",
      "  [254 254 254]\n",
      "  ...\n",
      "  [253 253 253]\n",
      "  [255 255 255]\n",
      "  [255 255 255]]]\n"
     ]
    }
   ],
   "source": [
    "# Doc mot anh\n",
    "path = 'C:/Users/Admin/OneDrive - VNU-HCMUS/Documents/src.cv/img/01/original.jpg'\n",
    "img = cv2.imread(path)\n",
    "\n",
    "# In thong tin cua anh\n",
    "print(img)"
   ]
  },
  {
   "cell_type": "code",
   "execution_count": 3,
   "id": "ca6c1aec-521b-4e80-8d8d-2e7b497c5947",
   "metadata": {
    "tags": []
   },
   "outputs": [
    {
     "name": "stdout",
     "output_type": "stream",
     "text": [
      "(371, 508, 3)\n",
      "371\n",
      "508\n",
      "3\n"
     ]
    }
   ],
   "source": [
    "# Lay kich thuoc anh\n",
    "print(img.shape)\n",
    "x, y, z = img.shape\n",
    "print(x)\n",
    "print(y)\n",
    "print(z)\n"
   ]
  },
  {
   "cell_type": "code",
   "execution_count": 4,
   "id": "2dd3b7d3-43b3-43b8-a405-b2601aab91d4",
   "metadata": {
    "tags": []
   },
   "outputs": [],
   "source": [
    "# Hien thi anh\n",
    "cv2.imshow('Window', img)\n",
    "\n",
    "# Cho mot khoang thoi gian\n",
    "cv2.waitKey(10000)\n",
    "\n",
    "# Dong cua so window\n",
    "cv2.destroyWindow('Window')"
   ]
  },
  {
   "cell_type": "code",
   "execution_count": 5,
   "id": "15baa1b5-820d-4121-baef-6dda1d379680",
   "metadata": {
    "tags": []
   },
   "outputs": [],
   "source": [
    "# Tach mau \n",
    "b, g, r = cv2.split(img)\n",
    "cv2.imshow('Window', img)\n",
    "cv2.imshow('Red', r)\n",
    "cv2.imshow('Green', g)\n",
    "cv2.imshow('Blue', b)\n",
    "\n",
    "# Cho mot khoang thoi gian\n",
    "cv2.waitKey(0)\n",
    "\n",
    "# Dong cua so Window\n",
    "#cv2.destroyAllWindow()\n",
    "cv2.destroyWindow('Window')\n",
    "cv2.destroyWindow('Red')\n",
    "cv2.destroyWindow('Green')\n",
    "cv2.destroyWindow('Blue')"
   ]
  },
  {
   "cell_type": "code",
   "execution_count": 6,
   "id": "2be9032b-2c7a-4ffb-b3bb-0ff7661a4d47",
   "metadata": {
    "tags": []
   },
   "outputs": [
    {
     "ename": "AttributeError",
     "evalue": "module 'cv2' has no attribute 'destroyAllWindow'",
     "output_type": "error",
     "traceback": [
      "\u001b[1;31m---------------------------------------------------------------------------\u001b[0m",
      "\u001b[1;31mAttributeError\u001b[0m                            Traceback (most recent call last)",
      "Cell \u001b[1;32mIn[6], line 12\u001b[0m\n\u001b[0;32m      9\u001b[0m cv2\u001b[38;5;241m.\u001b[39mwaitKey(\u001b[38;5;241m0\u001b[39m)\n\u001b[0;32m     11\u001b[0m \u001b[38;5;66;03m# Dong cua so Window\u001b[39;00m\n\u001b[1;32m---> 12\u001b[0m cv2\u001b[38;5;241m.\u001b[39mdestroyAllWindow()\n",
      "\u001b[1;31mAttributeError\u001b[0m: module 'cv2' has no attribute 'destroyAllWindow'"
     ]
    }
   ],
   "source": [
    "gray_img = cv2.cvtColor(img, cv2.COLOR_BGR2GRAY)\n",
    "\n",
    "img2 = cv2.cvtColor(img, cv2.COLOR_BGR2RGB)\n",
    "\n",
    "cv2.imshow('gray_img', gray_img)\n",
    "cv2.imshow('img_2', img2)\n",
    "\n",
    "# Cho mot khoang thoi gian\n",
    "cv2.waitKey(0)\n",
    "\n",
    "# Dong cua so Window\n",
    "cv2.destroyAllWindow()"
   ]
  },
  {
   "cell_type": "code",
   "execution_count": null,
   "id": "3782ff6d-1962-4a38-a79b-8722b6cf1e27",
   "metadata": {
    "tags": []
   },
   "outputs": [],
   "source": [
    "# Thay doi thong so cua diem anh\n",
    "height, width, z = img.shape\n",
    "quater_h = height/2\n",
    "quater_w = width/2\n",
    "\n",
    "# Green color\n",
    "green_color = (0, 255, 0)\n",
    "\n",
    "# Copy anh\n",
    "img2 = img.copy()\n",
    "\n",
    "# Thay doi mau cua goc 1/4 ben trai tren anh\n",
    "for y in range(int(quater_h)):\n",
    "    for x in range(int(quater_w)):\n",
    "        img2[y, x] = green_color\n",
    "\n",
    "# Hien thi \n",
    "cv2.imshow('Window', img)\n",
    "cv2.imshow('img2', img2)\n",
    "\n",
    "# Cho mot khoang thoi gian\n",
    "cv2.waitKey(0)\n",
    "\n",
    "# Dong cua so Window\n",
    "cv2.destroyAllWindow()\n"
   ]
  },
  {
   "cell_type": "code",
   "execution_count": null,
   "id": "33320994-3ce2-4e43-9a68-219d94cd95c1",
   "metadata": {},
   "outputs": [],
   "source": []
  }
 ],
 "metadata": {
  "kernelspec": {
   "display_name": "Python 3 (ipykernel)",
   "language": "python",
   "name": "python3"
  },
  "language_info": {
   "codemirror_mode": {
    "name": "ipython",
    "version": 3
   },
   "file_extension": ".py",
   "mimetype": "text/x-python",
   "name": "python",
   "nbconvert_exporter": "python",
   "pygments_lexer": "ipython3",
   "version": "3.11.5"
  }
 },
 "nbformat": 4,
 "nbformat_minor": 5
}
