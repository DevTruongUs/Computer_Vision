{
 "cells": [
  {
   "cell_type": "code",
   "execution_count": 1,
   "id": "3ae2f9c5-bc88-4753-a120-87a918e3a3a0",
   "metadata": {
    "tags": []
   },
   "outputs": [],
   "source": [
    "import cv2"
   ]
  },
  {
   "cell_type": "code",
   "execution_count": 2,
   "id": "7f66c7b9-8d3e-4ae5-bca5-6d9b743c59c4",
   "metadata": {
    "tags": []
   },
   "outputs": [],
   "source": [
    "def display(title, img):\n",
    "    cv2.imshow(title, img)\n",
    "    \n",
    "    # Cho mot khoang thoi gian\n",
    "    cv2.waitKey(0)\n",
    "    \n",
    "    # Dong cua so Window\n",
    "    cv2.destroyWindow(title)"
   ]
  },
  {
   "cell_type": "code",
   "execution_count": 3,
   "id": "21a5c26f-ccb3-4750-a2aa-0f3c48acad72",
   "metadata": {
    "tags": []
   },
   "outputs": [],
   "source": [
    "# Khoi tao Haar Cascade Classifier cho nhan dien khuon mat\n",
    "face_cascade = cv2.CascadeClassifier('C:/Users/Admin/OneDrive - VNU-HCMUS/Documents/src.cv/img/01/haarcascade_frontalface_default.xml')\n",
    "eye_cascade = cv2.CascadeClassifier('C:/Users/Admin/OneDrive - VNU-HCMUS/Documents/src.cv/img/01/haarcascade_eye_tree_eyeglasses.xml')"
   ]
  },
  {
   "cell_type": "code",
   "execution_count": 4,
   "id": "e9990626-91ba-47ea-9341-1f37f1758387",
   "metadata": {
    "tags": []
   },
   "outputs": [],
   "source": [
    "# Doc anh\n",
    "img = cv2.imread('C:/Users/Admin/OneDrive - VNU-HCMUS/Documents/src.cv/img/01/image_70.jpg')"
   ]
  },
  {
   "cell_type": "code",
   "execution_count": 5,
   "id": "e4654d0e-489a-4325-89f7-478af00dc43e",
   "metadata": {
    "tags": []
   },
   "outputs": [],
   "source": [
    "# Chuyen sang anh xam\n",
    "gray = cv2.cvtColor(img, cv2.COLOR_BGR2GRAY)"
   ]
  },
  {
   "cell_type": "code",
   "execution_count": 6,
   "id": "e6b95147-a318-4891-a987-bc50451368f0",
   "metadata": {},
   "outputs": [],
   "source": [
    "# Nhan dien khuon mat\n",
    "faces = face_cascade.detectMultiScale(gray, scaleFactor=1.1, minNeighbors=5,minSize=(30,30))"
   ]
  },
  {
   "cell_type": "code",
   "execution_count": 7,
   "id": "a0c00afd-fdbe-4445-a431-fc9a2bc4b7c9",
   "metadata": {
    "tags": []
   },
   "outputs": [],
   "source": [
    "# Nhan dien mat\n",
    "eyes = eye_cascade.detectMultiScale(gray, scaleFactor=1.1, minNeighbors=1,minSize=(5,5))"
   ]
  },
  {
   "cell_type": "code",
   "execution_count": 8,
   "id": "b0dbc3cc-e846-4bd8-8b51-df4d0815f496",
   "metadata": {},
   "outputs": [],
   "source": [
    "# Ve hop chua khuon mat\n",
    "for(x, y, w, h) in faces:\n",
    "    cv2.rectangle(img, (x, y), (x+w, y+h), (255, 255, 0), 2)"
   ]
  },
  {
   "cell_type": "code",
   "execution_count": 9,
   "id": "882bc770-5043-44c2-8724-9a73d86c1c2d",
   "metadata": {
    "tags": []
   },
   "outputs": [],
   "source": [
    "# Ve hop chua doi mat\n",
    "for(x, y, w, h) in eyes:\n",
    "    cv2.rectangle(img, (x, y), (x+w, y+h), (0, 255, 0), 2)"
   ]
  },
  {
   "cell_type": "code",
   "execution_count": 10,
   "id": "41fec18a-6320-46fe-9779-c2a186ff406d",
   "metadata": {
    "tags": []
   },
   "outputs": [
    {
     "ename": "error",
     "evalue": "OpenCV(4.8.1) D:\\a\\opencv-python\\opencv-python\\opencv\\modules\\highgui\\src\\window_w32.cpp:1261: error: (-27:Null pointer) NULL window: 'Faces: ' in function 'cvDestroyWindow'\n",
     "output_type": "error",
     "traceback": [
      "\u001b[1;31m---------------------------------------------------------------------------\u001b[0m",
      "\u001b[1;31merror\u001b[0m                                     Traceback (most recent call last)",
      "Cell \u001b[1;32mIn[10], line 1\u001b[0m\n\u001b[1;32m----> 1\u001b[0m display(\u001b[38;5;124m'\u001b[39m\u001b[38;5;124mFaces: \u001b[39m\u001b[38;5;124m'\u001b[39m, img)\n",
      "Cell \u001b[1;32mIn[2], line 8\u001b[0m, in \u001b[0;36mdisplay\u001b[1;34m(title, img)\u001b[0m\n\u001b[0;32m      5\u001b[0m cv2\u001b[38;5;241m.\u001b[39mwaitKey(\u001b[38;5;241m0\u001b[39m)\n\u001b[0;32m      7\u001b[0m \u001b[38;5;66;03m# Dong cua so Window\u001b[39;00m\n\u001b[1;32m----> 8\u001b[0m cv2\u001b[38;5;241m.\u001b[39mdestroyWindow(title)\n",
      "\u001b[1;31merror\u001b[0m: OpenCV(4.8.1) D:\\a\\opencv-python\\opencv-python\\opencv\\modules\\highgui\\src\\window_w32.cpp:1261: error: (-27:Null pointer) NULL window: 'Faces: ' in function 'cvDestroyWindow'\n"
     ]
    }
   ],
   "source": [
    "display('Faces: ', img)"
   ]
  },
  {
   "cell_type": "code",
   "execution_count": null,
   "id": "2708615a-4243-4fb6-99d1-cdfe13ad3220",
   "metadata": {},
   "outputs": [],
   "source": []
  }
 ],
 "metadata": {
  "kernelspec": {
   "display_name": "Python 3 (ipykernel)",
   "language": "python",
   "name": "python3"
  },
  "language_info": {
   "codemirror_mode": {
    "name": "ipython",
    "version": 3
   },
   "file_extension": ".py",
   "mimetype": "text/x-python",
   "name": "python",
   "nbconvert_exporter": "python",
   "pygments_lexer": "ipython3",
   "version": "3.11.5"
  }
 },
 "nbformat": 4,
 "nbformat_minor": 5
}
