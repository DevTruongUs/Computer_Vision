{
 "cells": [
  {
   "cell_type": "code",
   "execution_count": 1,
   "id": "db48bf53-c3c1-4371-8dfd-baaad5cd2fb1",
   "metadata": {
    "tags": []
   },
   "outputs": [],
   "source": [
    "import cv2\n",
    "import time"
   ]
  },
  {
   "cell_type": "code",
   "execution_count": 2,
   "id": "85c3c0b7-0fe5-45cc-9962-010fbd6b0e60",
   "metadata": {
    "tags": []
   },
   "outputs": [],
   "source": [
    "# Doc video tu file\n",
    "my_video = cv2.VideoCapture('C:/Users/Admin/OneDrive - VNU-HCMUS/Documents/src.cv/img/01/pexels-ahmed-18338415.mp4')"
   ]
  },
  {
   "cell_type": "code",
   "execution_count": 3,
   "id": "ffe7c5a5-8594-47be-90c4-49dce2a5bfd0",
   "metadata": {
    "tags": []
   },
   "outputs": [],
   "source": [
    "# Tao cua so de hien thi\n",
    "cv2.namedWindow('Video Player', cv2.WINDOW_NORMAL)"
   ]
  },
  {
   "cell_type": "code",
   "execution_count": 4,
   "id": "9edfc874-13a2-4d11-95e4-0f4694d05920",
   "metadata": {},
   "outputs": [
    {
     "ename": "NameError",
     "evalue": "name 'fps' is not defined",
     "output_type": "error",
     "traceback": [
      "\u001b[1;31m---------------------------------------------------------------------------\u001b[0m",
      "\u001b[1;31mNameError\u001b[0m                                 Traceback (most recent call last)",
      "Cell \u001b[1;32mIn[4], line 2\u001b[0m\n\u001b[0;32m      1\u001b[0m \u001b[38;5;66;03m# Ghi text tren hinh anh\u001b[39;00m\n\u001b[1;32m----> 2\u001b[0m content \u001b[38;5;241m=\u001b[39m \u001b[38;5;124mf\u001b[39m\u001b[38;5;124m'\u001b[39m\u001b[38;5;124mFPS: \u001b[39m\u001b[38;5;132;01m{\u001b[39;00mfps\u001b[38;5;132;01m:\u001b[39;00m\u001b[38;5;124m.2f\u001b[39m\u001b[38;5;132;01m}\u001b[39;00m\u001b[38;5;124m'\u001b[39m\n\u001b[0;32m      3\u001b[0m font \u001b[38;5;241m=\u001b[39m cv2\u001b[38;5;241m.\u001b[39mFONT_HERSHEY_SIMPLEX\n\u001b[0;32m      4\u001b[0m font_color \u001b[38;5;241m=\u001b[39m (\u001b[38;5;241m255\u001b[39m,\u001b[38;5;241m255\u001b[39m,\u001b[38;5;241m255\u001b[39m)\n",
      "\u001b[1;31mNameError\u001b[0m: name 'fps' is not defined"
     ]
    }
   ],
   "source": [
    "# Ghi text tren hinh anh\n",
    "content = f'FPS: {fps:.2f}'\n",
    "font = cv2.FONT_HERSHEY_SIMPLEX\n",
    "font_color = (255,255,255)\n",
    "font_scale = 5\n",
    "font_thicknes = 2"
   ]
  },
  {
   "cell_type": "code",
   "execution_count": 6,
   "id": "a5df6b29-1e61-4005-a13a-6c98e7fbcfd7",
   "metadata": {
    "tags": []
   },
   "outputs": [
    {
     "ename": "NameError",
     "evalue": "name 'font' is not defined",
     "output_type": "error",
     "traceback": [
      "\u001b[1;31m---------------------------------------------------------------------------\u001b[0m",
      "\u001b[1;31mNameError\u001b[0m                                 Traceback (most recent call last)",
      "Cell \u001b[1;32mIn[6], line 20\u001b[0m\n\u001b[0;32m     17\u001b[0m fps \u001b[38;5;241m=\u001b[39m \u001b[38;5;241m1\u001b[39m\u001b[38;5;241m/\u001b[39m(end_time \u001b[38;5;241m-\u001b[39m start_time)\n\u001b[0;32m     19\u001b[0m \u001b[38;5;66;03m# Ghi so luong fps\u001b[39;00m\n\u001b[1;32m---> 20\u001b[0m cv2\u001b[38;5;241m.\u001b[39mputText(frame, \u001b[38;5;124mf\u001b[39m\u001b[38;5;124m'\u001b[39m\u001b[38;5;124mFPS: \u001b[39m\u001b[38;5;132;01m{\u001b[39;00mfps\u001b[38;5;132;01m:\u001b[39;00m\u001b[38;5;124m.2f\u001b[39m\u001b[38;5;132;01m}\u001b[39;00m\u001b[38;5;124m'\u001b[39m, (\u001b[38;5;241m100\u001b[39m,\u001b[38;5;241m100\u001b[39m), font, font_scale, font_color, font_thicknes)\n\u001b[0;32m     22\u001b[0m \u001b[38;5;66;03m# Hien thi \u001b[39;00m\n\u001b[0;32m     23\u001b[0m cv2\u001b[38;5;241m.\u001b[39mimshow(\u001b[38;5;124m'\u001b[39m\u001b[38;5;124mVideo Player\u001b[39m\u001b[38;5;124m'\u001b[39m, frame)\n",
      "\u001b[1;31mNameError\u001b[0m: name 'font' is not defined"
     ]
    }
   ],
   "source": [
    "# Hien thi tung khung hinh\n",
    "while True:\n",
    "    #Thoi gian truoc khi doc\n",
    "    start_time = time.time()\n",
    "    \n",
    "    # Doc 1 frame\n",
    "    ret, frame = my_video.read()\n",
    "    \n",
    "    # Thoat neu khong the doc file\n",
    "    if not ret:\n",
    "        break\n",
    "    \n",
    "    #Thoi gian sau khi doc\n",
    "    end_time = time.time()\n",
    "    \n",
    "    # Tinh FPS\n",
    "    fps = 1/(end_time - start_time)\n",
    "    \n",
    "    # Ghi so luong fps\n",
    "    cv2.putText(frame, f'FPS: {fps:.2f}', (100,100), font, font_scale, font_color, font_thicknes)\n",
    "        \n",
    "    # Hien thi \n",
    "    cv2.imshow('Video Player', frame)\n",
    "    \n",
    "    if(cv2.waitKey(10)==ord('q')):\n",
    "        break\n",
    "    "
   ]
  },
  {
   "cell_type": "code",
   "execution_count": 7,
   "id": "df51f449-94d5-45e1-a466-b2e060ee8420",
   "metadata": {
    "tags": []
   },
   "outputs": [],
   "source": [
    "# Huy bo player\n",
    "my_video.release\n",
    "cv2.destroyAllWindows()"
   ]
  },
  {
   "cell_type": "code",
   "execution_count": null,
   "id": "6d790fed-20bd-44bf-bd15-341f87f615ac",
   "metadata": {},
   "outputs": [],
   "source": []
  }
 ],
 "metadata": {
  "kernelspec": {
   "display_name": "Python 3 (ipykernel)",
   "language": "python",
   "name": "python3"
  },
  "language_info": {
   "codemirror_mode": {
    "name": "ipython",
    "version": 3
   },
   "file_extension": ".py",
   "mimetype": "text/x-python",
   "name": "python",
   "nbconvert_exporter": "python",
   "pygments_lexer": "ipython3",
   "version": "3.11.5"
  }
 },
 "nbformat": 4,
 "nbformat_minor": 5
}
