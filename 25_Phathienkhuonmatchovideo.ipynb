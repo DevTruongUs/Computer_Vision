{
 "cells": [
  {
   "cell_type": "code",
   "execution_count": 1,
   "id": "3ae2f9c5-bc88-4753-a120-87a918e3a3a0",
   "metadata": {
    "tags": []
   },
   "outputs": [],
   "source": [
    "import cv2\n",
    "import time"
   ]
  },
  {
   "cell_type": "code",
   "execution_count": 2,
   "id": "64e5f78a-3362-4e76-8aac-0cea0c876e02",
   "metadata": {},
   "outputs": [],
   "source": [
    "# Doc video tu file\n",
    "camera = cv2.VideoCapture(0)"
   ]
  },
  {
   "cell_type": "code",
   "execution_count": 3,
   "id": "cbccf40d-8087-42b0-94c2-a90a891827f8",
   "metadata": {},
   "outputs": [],
   "source": [
    "# Tao cua so de hien thi\n",
    "cv2.namedWindow('Video Player', cv2.WINDOW_NORMAL)"
   ]
  },
  {
   "cell_type": "code",
   "execution_count": 4,
   "id": "6d460646-a2b7-4cea-9da9-0aee1133187f",
   "metadata": {},
   "outputs": [],
   "source": [
    "# Ghi text tren hinh anh\n",
    "font = cv2.FONT_HERSHEY_SIMPLEX\n",
    "font_color = (255, 255, 255)\n",
    "font_scale = 1\n",
    "font_thicknes = 2"
   ]
  },
  {
   "cell_type": "code",
   "execution_count": 5,
   "id": "7f66c7b9-8d3e-4ae5-bca5-6d9b743c59c4",
   "metadata": {
    "tags": []
   },
   "outputs": [],
   "source": [
    "def display(title, img):\n",
    "    cv2.imshow(title, img)\n",
    "    \n",
    "    # Cho mot khoang thoi gian\n",
    "    cv2.waitKey(0)\n",
    "    \n",
    "    # Dong cua so Window\n",
    "    cv2.destroyWindow(title)"
   ]
  },
  {
   "cell_type": "code",
   "execution_count": 6,
   "id": "21a5c26f-ccb3-4750-a2aa-0f3c48acad72",
   "metadata": {
    "tags": []
   },
   "outputs": [],
   "source": [
    "def detect(img):    \n",
    "    # Khoi tao Haar Cascade Classifier cho nhan dien khuon mat\n",
    "    face_cascade = cv2.CascadeClassifier('C:/Users/Admin/OneDrive - VNU-HCMUS/Documents/src.cv/img/01/haarcascade_frontalface_default.xml')\n",
    "    eye_cascade = cv2.CascadeClassifier('C:/Users/Admin/OneDrive - VNU-HCMUS/Documents/src.cv/img/01/haarcascade_eye_tree_eyeglasses.xml')\n",
    "    # Chuyen sang anh xam\n",
    "    gray = cv2.cvtColor(img, cv2.COLOR_BGR2GRAY)\n",
    "    # Nhan dien khuon mat\n",
    "    faces = face_cascade.detectMultiScale(gray, scaleFactor=1.1, minNeighbors=5,minSize=(30,30))\n",
    "    # Nhan dien mat\n",
    "    eyes = eye_cascade.detectMultiScale(gray, scaleFactor=1.1, minNeighbors=1,minSize=(5,5))\n",
    "    # Ve hop chua khuon mat\n",
    "    for(x, y, w, h) in faces:\n",
    "        cv2.rectangle(img, (x, y), (x+w, y+h), (255, 255, 0), 2)\n",
    "    # Ve hop chua doi mat\n",
    "    for(x, y, w, h) in eyes:\n",
    "        cv2.rectangle(img, (x, y), (x+w, y+h), (0, 255, 0), 2)\n",
    "    # Tra ve anh\n",
    "    return img "
   ]
  },
  {
   "cell_type": "code",
   "execution_count": null,
   "id": "4010bda6-ac30-4247-bcff-3ed4c53be25a",
   "metadata": {
    "tags": []
   },
   "outputs": [],
   "source": [
    "# Hiển thị từng khung ảnh\n",
    "while True:\n",
    "    # Thời gian trước khi đọc\n",
    "    start_time = time.time()\n",
    "    # Đọc 1 frame\n",
    "    ret, frame = camera.read()\n",
    "    # Thoát khi không thể đọc được frame\n",
    "    if not ret:\n",
    "        break\n",
    "            \n",
    "    # Thời gian trước khi đọc\n",
    "    end_time = time.time()    \n",
    "    \n",
    "    # Tính FPS:\n",
    "    fps = 1/(end_time-start_time)\n",
    "    \n",
    "    # Detect\n",
    "    frame = detect(frame)\n",
    "    \n",
    "    # Ghi số lượng fps\n",
    "    cv2.putText(frame, f'FPS: {fps:.2f}', (100, 100), font, font_scale, font_color , font_thicknes)\n",
    "    \n",
    "    # Hiển thị\n",
    "    cv2.imshow('Video Player', frame)\n",
    "    if(cv2.waitKey(10)==ord('q')):\n",
    "        break\n",
    "\n",
    "# Hủy bỏ player\n",
    "camera.release()\n",
    "cv2.destroyAllWindows()\n"
   ]
  },
  {
   "cell_type": "code",
   "execution_count": null,
   "id": "28f21ba1-993b-40e9-9136-e447ceaa4cd6",
   "metadata": {},
   "outputs": [],
   "source": []
  }
 ],
 "metadata": {
  "kernelspec": {
   "display_name": "Python 3 (ipykernel)",
   "language": "python",
   "name": "python3"
  },
  "language_info": {
   "codemirror_mode": {
    "name": "ipython",
    "version": 3
   },
   "file_extension": ".py",
   "mimetype": "text/x-python",
   "name": "python",
   "nbconvert_exporter": "python",
   "pygments_lexer": "ipython3",
   "version": "3.11.5"
  }
 },
 "nbformat": 4,
 "nbformat_minor": 5
}
